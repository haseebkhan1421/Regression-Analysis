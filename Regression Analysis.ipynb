{
  "nbformat": 4,
  "nbformat_minor": 0,
  "metadata": {
    "colab": {
      "name": "Modeling Test - Haseeb Khan.ipynb",
      "provenance": [],
      "collapsed_sections": []
    },
    "kernelspec": {
      "name": "python3",
      "display_name": "Python 3"
    }
  },
  "cells": [
    {
      "cell_type": "code",
      "metadata": {
        "id": "lKZNSQ_41kSE"
      },
      "source": [
        "import pandas as pd\n",
        "import numpy as np\n",
        "from google.colab import files\n",
        "import matplotlib.pyplot as plt\n",
        "import seaborn as sns\n",
        "import statsmodels.api as sm\n",
        "import statsmodels.stats.api as sms\n",
        "from scipy.stats import kurtosis\n",
        "from scipy.stats import skew\n",
        "from scipy.stats import pointbiserialr\n",
        "from sklearn import preprocessing\n",
        "from sklearn.model_selection import train_test_split\n",
        "from sklearn.linear_model import LinearRegression\n",
        "from sklearn.metrics import r2_score,mean_squared_error, mean_absolute_error\n",
        "from sklearn import model_selection\n",
        "from sklearn.model_selection import KFold,cross_val_score\n",
        "from matplotlib.pyplot import xticks\n",
        "from statsmodels.stats.outliers_influence import variance_inflation_factor\n",
        "from sklearn.preprocessing import PolynomialFeatures\n",
        "from sklearn.linear_model import Ridge,Lasso\n",
        "from sklearn.model_selection import GridSearchCV\n",
        "from sklearn.pipeline import make_pipeline\n",
        "from sklearn.ensemble import GradientBoostingRegressor"
      ],
      "execution_count": 98,
      "outputs": []
    },
    {
      "cell_type": "markdown",
      "metadata": {
        "id": "I5UHn9yEvkBG"
      },
      "source": [
        "### Data Pre Processing"
      ]
    },
    {
      "cell_type": "code",
      "metadata": {
        "id": "Lj4OB57C1wcD",
        "outputId": "fb0d33c5-a439-457c-9e42-db86e9ef9579",
        "colab": {
          "resources": {
            "http://localhost:8080/nbextensions/google.colab/files.js": {
              "data": "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",
              "ok": true,
              "headers": [
                [
                  "content-type",
                  "application/javascript"
                ]
              ],
              "status": 200,
              "status_text": ""
            }
          },
          "base_uri": "https://localhost:8080/",
          "height": 73
        }
      },
      "source": [
        "uploaded = files.upload()"
      ],
      "execution_count": 99,
      "outputs": [
        {
          "output_type": "display_data",
          "data": {
            "text/html": [
              "\n",
              "     <input type=\"file\" id=\"files-afbdef8a-4d83-426c-824d-19262a735ab2\" name=\"files[]\" multiple disabled\n",
              "        style=\"border:none\" />\n",
              "     <output id=\"result-afbdef8a-4d83-426c-824d-19262a735ab2\">\n",
              "      Upload widget is only available when the cell has been executed in the\n",
              "      current browser session. Please rerun this cell to enable.\n",
              "      </output>\n",
              "      <script src=\"/nbextensions/google.colab/files.js\"></script> "
            ],
            "text/plain": [
              "<IPython.core.display.HTML object>"
            ]
          },
          "metadata": {
            "tags": []
          }
        },
        {
          "output_type": "stream",
          "text": [
            "Saving Modeling Test Data.csv to Modeling Test Data (2).csv\n"
          ],
          "name": "stdout"
        }
      ]
    },
    {
      "cell_type": "markdown",
      "metadata": {
        "id": "7wZuyBkxsltA"
      },
      "source": [
        "Loading the dataset"
      ]
    },
    {
      "cell_type": "code",
      "metadata": {
        "id": "180-W5lW1wes"
      },
      "source": [
        "data = pd.read_csv(\"Modeling Test Data.csv\",encoding='utf-8')"
      ],
      "execution_count": 100,
      "outputs": []
    },
    {
      "cell_type": "markdown",
      "metadata": {
        "id": "_m6uGClyso9Z"
      },
      "source": [
        "Checking the shape of data"
      ]
    },
    {
      "cell_type": "code",
      "metadata": {
        "id": "MulwyB9F1who",
        "outputId": "3e1d3c99-cb75-4d8d-b859-8cd21d95d049",
        "colab": {
          "base_uri": "https://localhost:8080/",
          "height": 35
        }
      },
      "source": [
        "data.shape"
      ],
      "execution_count": 101,
      "outputs": [
        {
          "output_type": "execute_result",
          "data": {
            "text/plain": [
              "(10000, 11)"
            ]
          },
          "metadata": {
            "tags": []
          },
          "execution_count": 101
        }
      ]
    },
    {
      "cell_type": "markdown",
      "metadata": {
        "id": "WoFZOnU1swE3"
      },
      "source": [
        "Count of values in each variable in the dataset"
      ]
    },
    {
      "cell_type": "code",
      "metadata": {
        "id": "uDBs35BD1wkV",
        "outputId": "d2f15d6f-dcf6-41b2-9aaa-ddfcb62bd55e",
        "colab": {
          "base_uri": "https://localhost:8080/",
          "height": 230
        }
      },
      "source": [
        "data.count()"
      ],
      "execution_count": 102,
      "outputs": [
        {
          "output_type": "execute_result",
          "data": {
            "text/plain": [
              "y         10000\n",
              "var_1     10000\n",
              "var_2     10000\n",
              "var_3     10000\n",
              "var_4     10000\n",
              "var_5     10000\n",
              "var_6     10000\n",
              "var_7     10000\n",
              "var_8     10000\n",
              "var_9     10000\n",
              "var_10    10000\n",
              "dtype: int64"
            ]
          },
          "metadata": {
            "tags": []
          },
          "execution_count": 102
        }
      ]
    },
    {
      "cell_type": "markdown",
      "metadata": {
        "id": "B3UdCuExs4P7"
      },
      "source": [
        "Since the count in each column is equal this means the data in the variables has no NULLs or NA"
      ]
    },
    {
      "cell_type": "markdown",
      "metadata": {
        "id": "9IzSyLyBtF6N"
      },
      "source": [
        "Exploring the features"
      ]
    },
    {
      "cell_type": "code",
      "metadata": {
        "id": "iuPgooH-1wm-",
        "outputId": "5e9330d3-5a1b-4db7-9a15-0dfdb2e34180",
        "colab": {
          "base_uri": "https://localhost:8080/",
          "height": 70
        }
      },
      "source": [
        "data.columns"
      ],
      "execution_count": 103,
      "outputs": [
        {
          "output_type": "execute_result",
          "data": {
            "text/plain": [
              "Index(['y', 'var_1', 'var_2', 'var_3', 'var_4', 'var_5', 'var_6', 'var_7',\n",
              "       'var_8', 'var_9', 'var_10'],\n",
              "      dtype='object')"
            ]
          },
          "metadata": {
            "tags": []
          },
          "execution_count": 103
        }
      ]
    },
    {
      "cell_type": "code",
      "metadata": {
        "id": "SvvAX7wZ1wpe",
        "outputId": "0d24dfa3-7846-4865-b915-df4ab61a5e59",
        "colab": {
          "base_uri": "https://localhost:8080/",
          "height": 135
        }
      },
      "source": [
        "data.head(3)"
      ],
      "execution_count": 104,
      "outputs": [
        {
          "output_type": "execute_result",
          "data": {
            "text/html": [
              "<div>\n",
              "<style scoped>\n",
              "    .dataframe tbody tr th:only-of-type {\n",
              "        vertical-align: middle;\n",
              "    }\n",
              "\n",
              "    .dataframe tbody tr th {\n",
              "        vertical-align: top;\n",
              "    }\n",
              "\n",
              "    .dataframe thead th {\n",
              "        text-align: right;\n",
              "    }\n",
              "</style>\n",
              "<table border=\"1\" class=\"dataframe\">\n",
              "  <thead>\n",
              "    <tr style=\"text-align: right;\">\n",
              "      <th></th>\n",
              "      <th>y</th>\n",
              "      <th>var_1</th>\n",
              "      <th>var_2</th>\n",
              "      <th>var_3</th>\n",
              "      <th>var_4</th>\n",
              "      <th>var_5</th>\n",
              "      <th>var_6</th>\n",
              "      <th>var_7</th>\n",
              "      <th>var_8</th>\n",
              "      <th>var_9</th>\n",
              "      <th>var_10</th>\n",
              "    </tr>\n",
              "  </thead>\n",
              "  <tbody>\n",
              "    <tr>\n",
              "      <th>0</th>\n",
              "      <td>58.891377</td>\n",
              "      <td>5285.076955</td>\n",
              "      <td>8102.610429</td>\n",
              "      <td>-142802.4627</td>\n",
              "      <td>0.731818</td>\n",
              "      <td>61045.68645</td>\n",
              "      <td>183502.7911</td>\n",
              "      <td>2418498.392</td>\n",
              "      <td>27880.60083</td>\n",
              "      <td>360626.7592</td>\n",
              "      <td>4</td>\n",
              "    </tr>\n",
              "    <tr>\n",
              "      <th>1</th>\n",
              "      <td>57.641838</td>\n",
              "      <td>2094.137183</td>\n",
              "      <td>7432.119245</td>\n",
              "      <td>-147434.0657</td>\n",
              "      <td>2.527586</td>\n",
              "      <td>48485.22029</td>\n",
              "      <td>232809.7287</td>\n",
              "      <td>1779351.332</td>\n",
              "      <td>32153.75776</td>\n",
              "      <td>382670.3624</td>\n",
              "      <td>5</td>\n",
              "    </tr>\n",
              "    <tr>\n",
              "      <th>2</th>\n",
              "      <td>53.746536</td>\n",
              "      <td>5830.245294</td>\n",
              "      <td>6613.941822</td>\n",
              "      <td>-129496.5961</td>\n",
              "      <td>2.625691</td>\n",
              "      <td>36301.74791</td>\n",
              "      <td>214837.0432</td>\n",
              "      <td>2072100.771</td>\n",
              "      <td>30642.70182</td>\n",
              "      <td>370120.6062</td>\n",
              "      <td>2</td>\n",
              "    </tr>\n",
              "  </tbody>\n",
              "</table>\n",
              "</div>"
            ],
            "text/plain": [
              "           y        var_1        var_2  ...        var_8        var_9  var_10\n",
              "0  58.891377  5285.076955  8102.610429  ...  27880.60083  360626.7592       4\n",
              "1  57.641838  2094.137183  7432.119245  ...  32153.75776  382670.3624       5\n",
              "2  53.746536  5830.245294  6613.941822  ...  30642.70182  370120.6062       2\n",
              "\n",
              "[3 rows x 11 columns]"
            ]
          },
          "metadata": {
            "tags": []
          },
          "execution_count": 104
        }
      ]
    },
    {
      "cell_type": "markdown",
      "metadata": {
        "id": "9k6y3G2PtOfd"
      },
      "source": [
        "Checking the data types of each column"
      ]
    },
    {
      "cell_type": "code",
      "metadata": {
        "id": "tetF2eOo1wsS",
        "outputId": "0f252626-8976-466c-b102-ea0229133b1e",
        "colab": {
          "base_uri": "https://localhost:8080/",
          "height": 230
        }
      },
      "source": [
        "data.dtypes"
      ],
      "execution_count": 105,
      "outputs": [
        {
          "output_type": "execute_result",
          "data": {
            "text/plain": [
              "y         float64\n",
              "var_1     float64\n",
              "var_2     float64\n",
              "var_3     float64\n",
              "var_4     float64\n",
              "var_5     float64\n",
              "var_6     float64\n",
              "var_7     float64\n",
              "var_8     float64\n",
              "var_9     float64\n",
              "var_10      int64\n",
              "dtype: object"
            ]
          },
          "metadata": {
            "tags": []
          },
          "execution_count": 105
        }
      ]
    },
    {
      "cell_type": "markdown",
      "metadata": {
        "id": "GXHIb20ktUYK"
      },
      "source": [
        "Observing all of the data types above it seems like the columns are having right data type. If it would have been string or any other format then we would have to convert its type."
      ]
    },
    {
      "cell_type": "markdown",
      "metadata": {
        "id": "85uakJI_tqNw"
      },
      "source": [
        "Changing the postion of outcome variable. Since it was in the beginning so we are going to move to the end for the sake of simplicity."
      ]
    },
    {
      "cell_type": "code",
      "metadata": {
        "id": "rqfb0XAs1wul"
      },
      "source": [
        "outcome = data['y']\n",
        "data.drop(labels=['y'],axis=1,inplace=True)\n",
        "data.insert(len(data.columns),\"outcomeVar\",outcome)"
      ],
      "execution_count": 106,
      "outputs": []
    },
    {
      "cell_type": "markdown",
      "metadata": {
        "id": "CDElU5R_t4IB"
      },
      "source": [
        "Checking the number of NULLs in each feature column"
      ]
    },
    {
      "cell_type": "code",
      "metadata": {
        "id": "aPPDRog71wxT",
        "outputId": "54711b14-c64c-4ead-a986-8bf5a6d3057f",
        "colab": {
          "base_uri": "https://localhost:8080/",
          "height": 230
        }
      },
      "source": [
        "data.isnull().sum(axis=0)"
      ],
      "execution_count": 107,
      "outputs": [
        {
          "output_type": "execute_result",
          "data": {
            "text/plain": [
              "var_1         0\n",
              "var_2         0\n",
              "var_3         0\n",
              "var_4         0\n",
              "var_5         0\n",
              "var_6         0\n",
              "var_7         0\n",
              "var_8         0\n",
              "var_9         0\n",
              "var_10        0\n",
              "outcomeVar    0\n",
              "dtype: int64"
            ]
          },
          "metadata": {
            "tags": []
          },
          "execution_count": 107
        }
      ]
    },
    {
      "cell_type": "markdown",
      "metadata": {
        "id": "y5aEgs0Ct_pn"
      },
      "source": [
        "Checking the duplicates and then dropping them"
      ]
    },
    {
      "cell_type": "code",
      "metadata": {
        "id": "0DgpNRpQ1wz-",
        "outputId": "bb470aff-c2f5-4aa6-b1a1-526d8e94d495",
        "colab": {
          "base_uri": "https://localhost:8080/",
          "height": 35
        }
      },
      "source": [
        "duplicateRows = data[data.duplicated()]\n",
        "data.drop_duplicates(inplace=True)\n",
        "data.shape"
      ],
      "execution_count": 108,
      "outputs": [
        {
          "output_type": "execute_result",
          "data": {
            "text/plain": [
              "(10000, 11)"
            ]
          },
          "metadata": {
            "tags": []
          },
          "execution_count": 108
        }
      ]
    },
    {
      "cell_type": "markdown",
      "metadata": {
        "id": "rVXCfDSRuI-c"
      },
      "source": [
        "Since the shape of dataset found above was same as before which means no duplicate rows were found."
      ]
    },
    {
      "cell_type": "markdown",
      "metadata": {
        "id": "3OLzpqi4uYVk"
      },
      "source": [
        "Finding the unique values in each column of dataset to observe if we have any continuous and categorical variables present in the dataset."
      ]
    },
    {
      "cell_type": "code",
      "metadata": {
        "id": "v1lJ1luN1w7U",
        "outputId": "02d6e64f-9014-4807-b254-9f21f89a8cee",
        "colab": {
          "base_uri": "https://localhost:8080/",
          "height": 212
        }
      },
      "source": [
        "for feature in data.columns:\n",
        "\n",
        "  print(feature,len(data[feature].unique().tolist()))"
      ],
      "execution_count": 109,
      "outputs": [
        {
          "output_type": "stream",
          "text": [
            "var_1 10000\n",
            "var_2 10000\n",
            "var_3 10000\n",
            "var_4 10000\n",
            "var_5 10000\n",
            "var_6 10000\n",
            "var_7 10000\n",
            "var_8 10000\n",
            "var_9 10000\n",
            "var_10 5\n",
            "outcomeVar 9791\n"
          ],
          "name": "stdout"
        }
      ]
    },
    {
      "cell_type": "markdown",
      "metadata": {
        "id": "FF7Ghd6NumzW"
      },
      "source": [
        "Since, all the columns above have 10,000 unique values which gives us a sense they are continuous variables and var_10 is having 5 values which confirms it is a categorical variable."
      ]
    },
    {
      "cell_type": "markdown",
      "metadata": {
        "id": "BPtatHwqu7Ng"
      },
      "source": [
        "Checking the count of NA in each column"
      ]
    },
    {
      "cell_type": "code",
      "metadata": {
        "id": "wdcNQWeN1xAB",
        "outputId": "39be36ab-f910-45d8-b289-bc867329e1ff",
        "colab": {
          "base_uri": "https://localhost:8080/",
          "height": 230
        }
      },
      "source": [
        "data.isna().sum()"
      ],
      "execution_count": 110,
      "outputs": [
        {
          "output_type": "execute_result",
          "data": {
            "text/plain": [
              "var_1         0\n",
              "var_2         0\n",
              "var_3         0\n",
              "var_4         0\n",
              "var_5         0\n",
              "var_6         0\n",
              "var_7         0\n",
              "var_8         0\n",
              "var_9         0\n",
              "var_10        0\n",
              "outcomeVar    0\n",
              "dtype: int64"
            ]
          },
          "metadata": {
            "tags": []
          },
          "execution_count": 110
        }
      ]
    },
    {
      "cell_type": "markdown",
      "metadata": {
        "id": "N1hrtgq2vCKT"
      },
      "source": [
        "Checking the number of levels in categorical variable"
      ]
    },
    {
      "cell_type": "code",
      "metadata": {
        "id": "5kZiMJQD1xCZ",
        "outputId": "c09fea80-8fef-42be-ec39-5548e0fe6e89",
        "colab": {
          "base_uri": "https://localhost:8080/",
          "height": 35
        }
      },
      "source": [
        "data['var_10'].unique()"
      ],
      "execution_count": 111,
      "outputs": [
        {
          "output_type": "execute_result",
          "data": {
            "text/plain": [
              "array([4, 5, 2, 3, 1])"
            ]
          },
          "metadata": {
            "tags": []
          },
          "execution_count": 111
        }
      ]
    },
    {
      "cell_type": "markdown",
      "metadata": {
        "id": "rbTRXXUo_cS-"
      },
      "source": [
        "### Exploratory Data Analysis"
      ]
    },
    {
      "cell_type": "markdown",
      "metadata": {
        "id": "dHJGIVI3vHKd"
      },
      "source": [
        "Complete picture of features of dataset"
      ]
    },
    {
      "cell_type": "code",
      "metadata": {
        "id": "RfTrQGa01xEz",
        "outputId": "9e396f55-738d-4168-bf52-94f34d2d597a",
        "colab": {
          "base_uri": "https://localhost:8080/",
          "height": 282
        }
      },
      "source": [
        "data.describe()"
      ],
      "execution_count": 112,
      "outputs": [
        {
          "output_type": "execute_result",
          "data": {
            "text/html": [
              "<div>\n",
              "<style scoped>\n",
              "    .dataframe tbody tr th:only-of-type {\n",
              "        vertical-align: middle;\n",
              "    }\n",
              "\n",
              "    .dataframe tbody tr th {\n",
              "        vertical-align: top;\n",
              "    }\n",
              "\n",
              "    .dataframe thead th {\n",
              "        text-align: right;\n",
              "    }\n",
              "</style>\n",
              "<table border=\"1\" class=\"dataframe\">\n",
              "  <thead>\n",
              "    <tr style=\"text-align: right;\">\n",
              "      <th></th>\n",
              "      <th>var_1</th>\n",
              "      <th>var_2</th>\n",
              "      <th>var_3</th>\n",
              "      <th>var_4</th>\n",
              "      <th>var_5</th>\n",
              "      <th>var_6</th>\n",
              "      <th>var_7</th>\n",
              "      <th>var_8</th>\n",
              "      <th>var_9</th>\n",
              "      <th>var_10</th>\n",
              "      <th>outcomeVar</th>\n",
              "    </tr>\n",
              "  </thead>\n",
              "  <tbody>\n",
              "    <tr>\n",
              "      <th>count</th>\n",
              "      <td>10000.000000</td>\n",
              "      <td>10000.000000</td>\n",
              "      <td>10000.000000</td>\n",
              "      <td>10000.000000</td>\n",
              "      <td>10000.000000</td>\n",
              "      <td>10000.000000</td>\n",
              "      <td>1.000000e+04</td>\n",
              "      <td>10000.000000</td>\n",
              "      <td>10000.000000</td>\n",
              "      <td>10000.000000</td>\n",
              "      <td>10000.000000</td>\n",
              "    </tr>\n",
              "    <tr>\n",
              "      <th>mean</th>\n",
              "      <td>8445.963010</td>\n",
              "      <td>3450.252510</td>\n",
              "      <td>168505.815510</td>\n",
              "      <td>1.610510</td>\n",
              "      <td>73390.402240</td>\n",
              "      <td>85873.402570</td>\n",
              "      <td>1.150636e+06</td>\n",
              "      <td>22190.066240</td>\n",
              "      <td>153862.395490</td>\n",
              "      <td>3.032500</td>\n",
              "      <td>12.190351</td>\n",
              "    </tr>\n",
              "    <tr>\n",
              "      <th>std</th>\n",
              "      <td>3540.407793</td>\n",
              "      <td>2544.552718</td>\n",
              "      <td>154606.758685</td>\n",
              "      <td>0.799212</td>\n",
              "      <td>42488.751840</td>\n",
              "      <td>71600.020020</td>\n",
              "      <td>8.840513e+05</td>\n",
              "      <td>9835.270071</td>\n",
              "      <td>84665.459925</td>\n",
              "      <td>1.410901</td>\n",
              "      <td>16.020137</td>\n",
              "    </tr>\n",
              "    <tr>\n",
              "      <th>min</th>\n",
              "      <td>-5583.153749</td>\n",
              "      <td>-6338.250221</td>\n",
              "      <td>-439972.812600</td>\n",
              "      <td>-1.328607</td>\n",
              "      <td>-77050.448580</td>\n",
              "      <td>-162312.422300</td>\n",
              "      <td>-2.692945e+06</td>\n",
              "      <td>-12674.425590</td>\n",
              "      <td>-135125.465700</td>\n",
              "      <td>1.000000</td>\n",
              "      <td>-20.486397</td>\n",
              "    </tr>\n",
              "    <tr>\n",
              "      <th>25%</th>\n",
              "      <td>6012.666381</td>\n",
              "      <td>1689.792306</td>\n",
              "      <td>64840.482335</td>\n",
              "      <td>1.070263</td>\n",
              "      <td>44707.280773</td>\n",
              "      <td>37958.405845</td>\n",
              "      <td>5.353268e+05</td>\n",
              "      <td>15593.819880</td>\n",
              "      <td>96818.711418</td>\n",
              "      <td>2.000000</td>\n",
              "      <td>0.342919</td>\n",
              "    </tr>\n",
              "    <tr>\n",
              "      <th>50%</th>\n",
              "      <td>8463.373285</td>\n",
              "      <td>3430.595022</td>\n",
              "      <td>167029.781400</td>\n",
              "      <td>1.598712</td>\n",
              "      <td>73543.761555</td>\n",
              "      <td>86582.980525</td>\n",
              "      <td>1.149984e+06</td>\n",
              "      <td>22091.102400</td>\n",
              "      <td>154089.232450</td>\n",
              "      <td>3.000000</td>\n",
              "      <td>10.881019</td>\n",
              "    </tr>\n",
              "    <tr>\n",
              "      <th>75%</th>\n",
              "      <td>10864.843605</td>\n",
              "      <td>5165.408836</td>\n",
              "      <td>272343.174250</td>\n",
              "      <td>2.146489</td>\n",
              "      <td>102189.829900</td>\n",
              "      <td>133951.621325</td>\n",
              "      <td>1.742196e+06</td>\n",
              "      <td>28924.445840</td>\n",
              "      <td>211875.685575</td>\n",
              "      <td>4.000000</td>\n",
              "      <td>23.047831</td>\n",
              "    </tr>\n",
              "    <tr>\n",
              "      <th>max</th>\n",
              "      <td>23299.976630</td>\n",
              "      <td>12288.699000</td>\n",
              "      <td>857156.728100</td>\n",
              "      <td>4.639956</td>\n",
              "      <td>242913.447400</td>\n",
              "      <td>357758.526300</td>\n",
              "      <td>4.315470e+06</td>\n",
              "      <td>58807.189120</td>\n",
              "      <td>473752.797700</td>\n",
              "      <td>5.000000</td>\n",
              "      <td>94.749833</td>\n",
              "    </tr>\n",
              "  </tbody>\n",
              "</table>\n",
              "</div>"
            ],
            "text/plain": [
              "              var_1         var_2  ...        var_10    outcomeVar\n",
              "count  10000.000000  10000.000000  ...  10000.000000  10000.000000\n",
              "mean    8445.963010   3450.252510  ...      3.032500     12.190351\n",
              "std     3540.407793   2544.552718  ...      1.410901     16.020137\n",
              "min    -5583.153749  -6338.250221  ...      1.000000    -20.486397\n",
              "25%     6012.666381   1689.792306  ...      2.000000      0.342919\n",
              "50%     8463.373285   3430.595022  ...      3.000000     10.881019\n",
              "75%    10864.843605   5165.408836  ...      4.000000     23.047831\n",
              "max    23299.976630  12288.699000  ...      5.000000     94.749833\n",
              "\n",
              "[8 rows x 11 columns]"
            ]
          },
          "metadata": {
            "tags": []
          },
          "execution_count": 112
        }
      ]
    },
    {
      "cell_type": "markdown",
      "metadata": {
        "id": "55WLiXazvNPy"
      },
      "source": [
        "The table above shows that mean of some column is very large as compared to other. This confirms we would need to scale our data in future stage."
      ]
    },
    {
      "cell_type": "markdown",
      "metadata": {
        "id": "XzQlVVYZva5G"
      },
      "source": [
        "Separating Continuous and Discrete Variables "
      ]
    },
    {
      "cell_type": "code",
      "metadata": {
        "id": "ZjKwpiP-3iLY"
      },
      "source": [
        "contVar=data.drop(['var_10'],axis=1)\n",
        "discVar=data[['var_10']]"
      ],
      "execution_count": 113,
      "outputs": []
    },
    {
      "cell_type": "markdown",
      "metadata": {
        "id": "qrdC_KfbF1g3"
      },
      "source": [
        "Checking the class distribution of the ctaegorical variable"
      ]
    },
    {
      "cell_type": "code",
      "metadata": {
        "id": "wD4daZbx1xHT",
        "outputId": "587c2e5c-0a2f-4991-a7aa-6681945ef982",
        "colab": {
          "base_uri": "https://localhost:8080/",
          "height": 281
        }
      },
      "source": [
        "def classDistributionChecker(discVar):\n",
        "\n",
        "  \"\"\"This function aceepts the discrete variable and draws the class distribution\"\"\"\n",
        "\n",
        "  for col in discVar.columns: \n",
        "    plt.title('Class Distribution of Categorical Variable')\n",
        "    xticks(range(1, 6))\n",
        "    plt.hist(discVar[col], bins = 5,color=\"#036564\", edgecolor = 'black') \n",
        "    plt.show()\n",
        "\n",
        "classDistributionChecker(discVar)"
      ],
      "execution_count": 114,
      "outputs": [
        {
          "output_type": "display_data",
          "data": {
            "image/png": "[encoded data removed]",
            "text/plain": [
              "<Figure size 432x288 with 1 Axes>"
            ]
          },
          "metadata": {
            "tags": [],
            "needs_background": "light"
          }
        }
      ]
    },
    {
      "cell_type": "markdown",
      "metadata": {
        "id": "BUMI-acnF7yI"
      },
      "source": [
        "Checking the gaussian distribution in each variable"
      ]
    },
    {
      "cell_type": "code",
      "metadata": {
        "id": "fciAqT5r7Y20",
        "outputId": "b21c863b-db54-49f7-a23a-80f34d8bb150",
        "colab": {
          "base_uri": "https://localhost:8080/",
          "height": 355
        }
      },
      "source": [
        "sns.distplot(data['var_1'],hist_kws={'edgecolor':'black'})"
      ],
      "execution_count": 115,
      "outputs": [
        {
          "output_type": "stream",
          "text": [
            "/usr/local/lib/python3.6/dist-packages/seaborn/distributions.py:2551: FutureWarning: `distplot` is a deprecated function and will be removed in a future version. Please adapt your code to use either `displot` (a figure-level function with similar flexibility) or `histplot` (an axes-level function for histograms).\n",
            "  warnings.warn(msg, FutureWarning)\n"
          ],
          "name": "stderr"
        },
        {
          "output_type": "execute_result",
          "data": {
            "text/plain": [
              "<matplotlib.axes._subplots.AxesSubplot at 0x7f0316b9b390>"
            ]
          },
          "metadata": {
            "tags": []
          },
          "execution_count": 115
        },
        {
          "output_type": "display_data",
          "data": {
            "image/png": "[encoded data removed]",
            "text/plain": [
              "<Figure size 432x288 with 1 Axes>"
            ]
          },
          "metadata": {
            "tags": [],
            "needs_background": "light"
          }
        }
      ]
    },
    {
      "cell_type": "code",
      "metadata": {
        "id": "G2JUV155FRST",
        "outputId": "2abe2089-9a8a-40eb-8b64-806c3a84d3a7",
        "colab": {
          "base_uri": "https://localhost:8080/",
          "height": 353
        }
      },
      "source": [
        "sns.distplot(data['var_2'],hist_kws={'edgecolor':'black'})"
      ],
      "execution_count": 116,
      "outputs": [
        {
          "output_type": "stream",
          "text": [
            "/usr/local/lib/python3.6/dist-packages/seaborn/distributions.py:2551: FutureWarning: `distplot` is a deprecated function and will be removed in a future version. Please adapt your code to use either `displot` (a figure-level function with similar flexibility) or `histplot` (an axes-level function for histograms).\n",
            "  warnings.warn(msg, FutureWarning)\n"
          ],
          "name": "stderr"
        },
        {
          "output_type": "execute_result",
          "data": {
            "text/plain": [
              "<matplotlib.axes._subplots.AxesSubplot at 0x7f0319611da0>"
            ]
          },
          "metadata": {
            "tags": []
          },
          "execution_count": 116
        },
        {
          "output_type": "display_data",
          "data": {
            "image/png": "[encoded data removed]",
            "text/plain": [
              "<Figure size 432x288 with 1 Axes>"
            ]
          },
          "metadata": {
            "tags": [],
            "needs_background": "light"
          }
        }
      ]
    },
    {
      "cell_type": "code",
      "metadata": {
        "id": "xZ1jGGnKCYjB",
        "outputId": "177398c5-b799-490a-d8a6-1d26fd7cac84",
        "colab": {
          "base_uri": "https://localhost:8080/",
          "height": 364
        }
      },
      "source": [
        "sns.distplot(data['var_3'],hist_kws={'edgecolor':'black'})"
      ],
      "execution_count": 117,
      "outputs": [
        {
          "output_type": "stream",
          "text": [
            "/usr/local/lib/python3.6/dist-packages/seaborn/distributions.py:2551: FutureWarning: `distplot` is a deprecated function and will be removed in a future version. Please adapt your code to use either `displot` (a figure-level function with similar flexibility) or `histplot` (an axes-level function for histograms).\n",
            "  warnings.warn(msg, FutureWarning)\n"
          ],
          "name": "stderr"
        },
        {
          "output_type": "execute_result",
          "data": {
            "text/plain": [
              "<matplotlib.axes._subplots.AxesSubplot at 0x7f0316bd01d0>"
            ]
          },
          "metadata": {
            "tags": []
          },
          "execution_count": 117
        },
        {
          "output_type": "display_data",
          "data": {
            "image/png": "[encoded data removed]",
            "text/plain": [
              "<Figure size 432x288 with 1 Axes>"
            ]
          },
          "metadata": {
            "tags": [],
            "needs_background": "light"
          }
        }
      ]
    },
    {
      "cell_type": "code",
      "metadata": {
        "id": "l1TZiOvcFX_c",
        "outputId": "87ee773e-95ae-43dd-d6dd-a489b58d6cf7",
        "colab": {
          "base_uri": "https://localhost:8080/",
          "height": 353
        }
      },
      "source": [
        "sns.distplot(data['var_4'],hist_kws={'edgecolor':'black'})"
      ],
      "execution_count": 118,
      "outputs": [
        {
          "output_type": "stream",
          "text": [
            "/usr/local/lib/python3.6/dist-packages/seaborn/distributions.py:2551: FutureWarning: `distplot` is a deprecated function and will be removed in a future version. Please adapt your code to use either `displot` (a figure-level function with similar flexibility) or `histplot` (an axes-level function for histograms).\n",
            "  warnings.warn(msg, FutureWarning)\n"
          ],
          "name": "stderr"
        },
        {
          "output_type": "execute_result",
          "data": {
            "text/plain": [
              "<matplotlib.axes._subplots.AxesSubplot at 0x7f0316a79c50>"
            ]
          },
          "metadata": {
            "tags": []
          },
          "execution_count": 118
        },
        {
          "output_type": "display_data",
          "data": {
            "image/png": "[encoded data removed]",
            "text/plain": [
              "<Figure size 432x288 with 1 Axes>"
            ]
          },
          "metadata": {
            "tags": [],
            "needs_background": "light"
          }
        }
      ]
    },
    {
      "cell_type": "code",
      "metadata": {
        "id": "SHaEYrRBFYIG",
        "outputId": "09331127-08d4-4c74-a6fb-ae3e9078ffef",
        "colab": {
          "base_uri": "https://localhost:8080/",
          "height": 364
        }
      },
      "source": [
        "sns.distplot(data['var_5'],hist_kws={'edgecolor':'black'})"
      ],
      "execution_count": 119,
      "outputs": [
        {
          "output_type": "stream",
          "text": [
            "/usr/local/lib/python3.6/dist-packages/seaborn/distributions.py:2551: FutureWarning: `distplot` is a deprecated function and will be removed in a future version. Please adapt your code to use either `displot` (a figure-level function with similar flexibility) or `histplot` (an axes-level function for histograms).\n",
            "  warnings.warn(msg, FutureWarning)\n"
          ],
          "name": "stderr"
        },
        {
          "output_type": "execute_result",
          "data": {
            "text/plain": [
              "<matplotlib.axes._subplots.AxesSubplot at 0x7f0314be8e80>"
            ]
          },
          "metadata": {
            "tags": []
          },
          "execution_count": 119
        },
        {
          "output_type": "display_data",
          "data": {
            "image/png": "[encoded data removed]",
            "text/plain": [
              "<Figure size 432x288 with 1 Axes>"
            ]
          },
          "metadata": {
            "tags": [],
            "needs_background": "light"
          }
        }
      ]
    },
    {
      "cell_type": "code",
      "metadata": {
        "id": "qlcOFxoVFYMG",
        "outputId": "6af226af-dd18-4b01-aaf9-b447e79ec1fc",
        "colab": {
          "base_uri": "https://localhost:8080/",
          "height": 364
        }
      },
      "source": [
        "sns.distplot(data['var_6'],hist_kws={'edgecolor':'black'})"
      ],
      "execution_count": 120,
      "outputs": [
        {
          "output_type": "stream",
          "text": [
            "/usr/local/lib/python3.6/dist-packages/seaborn/distributions.py:2551: FutureWarning: `distplot` is a deprecated function and will be removed in a future version. Please adapt your code to use either `displot` (a figure-level function with similar flexibility) or `histplot` (an axes-level function for histograms).\n",
            "  warnings.warn(msg, FutureWarning)\n"
          ],
          "name": "stderr"
        },
        {
          "output_type": "execute_result",
          "data": {
            "text/plain": [
              "<matplotlib.axes._subplots.AxesSubplot at 0x7f0314b67e48>"
            ]
          },
          "metadata": {
            "tags": []
          },
          "execution_count": 120
        },
        {
          "output_type": "display_data",
          "data": {
            "image/png": "[encoded data removed]",
            "text/plain": [
              "<Figure size 432x288 with 1 Axes>"
            ]
          },
          "metadata": {
            "tags": [],
            "needs_background": "light"
          }
        }
      ]
    },
    {
      "cell_type": "code",
      "metadata": {
        "id": "wTbKiwGJFYFv",
        "outputId": "99e9eb41-51bb-4dbd-a1b7-988502377d80",
        "colab": {
          "base_uri": "https://localhost:8080/",
          "height": 364
        }
      },
      "source": [
        "sns.distplot(data['var_7'],hist_kws={'edgecolor':'black'})"
      ],
      "execution_count": 121,
      "outputs": [
        {
          "output_type": "stream",
          "text": [
            "/usr/local/lib/python3.6/dist-packages/seaborn/distributions.py:2551: FutureWarning: `distplot` is a deprecated function and will be removed in a future version. Please adapt your code to use either `displot` (a figure-level function with similar flexibility) or `histplot` (an axes-level function for histograms).\n",
            "  warnings.warn(msg, FutureWarning)\n"
          ],
          "name": "stderr"
        },
        {
          "output_type": "execute_result",
          "data": {
            "text/plain": [
              "<matplotlib.axes._subplots.AxesSubplot at 0x7f0314ba7208>"
            ]
          },
          "metadata": {
            "tags": []
          },
          "execution_count": 121
        },
        {
          "output_type": "display_data",
          "data": {
            "image/png": "[encoded data removed]",
            "text/plain": [
              "<Figure size 432x288 with 1 Axes>"
            ]
          },
          "metadata": {
            "tags": [],
            "needs_background": "light"
          }
        }
      ]
    },
    {
      "cell_type": "code",
      "metadata": {
        "id": "7JzUQXhKFYCu",
        "outputId": "9d2826d5-1f55-41a7-99cc-2cc97be17b8b",
        "colab": {
          "base_uri": "https://localhost:8080/",
          "height": 364
        }
      },
      "source": [
        "sns.distplot(data['var_8'],hist_kws={'edgecolor':'black'})"
      ],
      "execution_count": 122,
      "outputs": [
        {
          "output_type": "stream",
          "text": [
            "/usr/local/lib/python3.6/dist-packages/seaborn/distributions.py:2551: FutureWarning: `distplot` is a deprecated function and will be removed in a future version. Please adapt your code to use either `displot` (a figure-level function with similar flexibility) or `histplot` (an axes-level function for histograms).\n",
            "  warnings.warn(msg, FutureWarning)\n"
          ],
          "name": "stderr"
        },
        {
          "output_type": "execute_result",
          "data": {
            "text/plain": [
              "<matplotlib.axes._subplots.AxesSubplot at 0x7f03149cd080>"
            ]
          },
          "metadata": {
            "tags": []
          },
          "execution_count": 122
        },
        {
          "output_type": "display_data",
          "data": {
            "image/png": "[encoded data removed]",
            "text/plain": [
              "<Figure size 432x288 with 1 Axes>"
            ]
          },
          "metadata": {
            "tags": [],
            "needs_background": "light"
          }
        }
      ]
    },
    {
      "cell_type": "code",
      "metadata": {
        "id": "loTy_sQ2FfAh",
        "outputId": "2f00f1a0-f55c-4db4-91f0-c21c220a046d",
        "colab": {
          "base_uri": "https://localhost:8080/",
          "height": 364
        }
      },
      "source": [
        "sns.distplot(data['var_9'],hist_kws={'edgecolor':'black'})"
      ],
      "execution_count": 123,
      "outputs": [
        {
          "output_type": "stream",
          "text": [
            "/usr/local/lib/python3.6/dist-packages/seaborn/distributions.py:2551: FutureWarning: `distplot` is a deprecated function and will be removed in a future version. Please adapt your code to use either `displot` (a figure-level function with similar flexibility) or `histplot` (an axes-level function for histograms).\n",
            "  warnings.warn(msg, FutureWarning)\n"
          ],
          "name": "stderr"
        },
        {
          "output_type": "execute_result",
          "data": {
            "text/plain": [
              "<matplotlib.axes._subplots.AxesSubplot at 0x7f031961b198>"
            ]
          },
          "metadata": {
            "tags": []
          },
          "execution_count": 123
        },
        {
          "output_type": "display_data",
          "data": {
            "image/png": "[encoded data removed]",
            "text/plain": [
              "<Figure size 432x288 with 1 Axes>"
            ]
          },
          "metadata": {
            "tags": [],
            "needs_background": "light"
          }
        }
      ]
    },
    {
      "cell_type": "code",
      "metadata": {
        "id": "StsxCacAFfKB",
        "outputId": "0b380b06-f585-4410-de6a-aaa02716ca4d",
        "colab": {
          "base_uri": "https://localhost:8080/",
          "height": 352
        }
      },
      "source": [
        "sns.distplot(data['outcomeVar'],hist_kws={'edgecolor':'black'})"
      ],
      "execution_count": 124,
      "outputs": [
        {
          "output_type": "stream",
          "text": [
            "/usr/local/lib/python3.6/dist-packages/seaborn/distributions.py:2551: FutureWarning: `distplot` is a deprecated function and will be removed in a future version. Please adapt your code to use either `displot` (a figure-level function with similar flexibility) or `histplot` (an axes-level function for histograms).\n",
            "  warnings.warn(msg, FutureWarning)\n"
          ],
          "name": "stderr"
        },
        {
          "output_type": "execute_result",
          "data": {
            "text/plain": [
              "<matplotlib.axes._subplots.AxesSubplot at 0x7f03147e07f0>"
            ]
          },
          "metadata": {
            "tags": []
          },
          "execution_count": 124
        },
        {
          "output_type": "display_data",
          "data": {
            "image/png": "[encoded data removed]",
            "text/plain": [
              "<Figure size 432x288 with 1 Axes>"
            ]
          },
          "metadata": {
            "tags": [],
            "needs_background": "light"
          }
        }
      ]
    },
    {
      "cell_type": "markdown",
      "metadata": {
        "id": "MsR5jqtGGDLn"
      },
      "source": [
        "Drawing the boxplots to observe the outliers in the data"
      ]
    },
    {
      "cell_type": "code",
      "metadata": {
        "id": "Sevh3LMHFfQS",
        "outputId": "baa092b8-38f1-4929-eae7-1ac88ef91772",
        "colab": {
          "base_uri": "https://localhost:8080/",
          "height": 291
        }
      },
      "source": [
        "dataFrame=data.drop(['var_10'],axis=1)\n",
        "sns.boxplot(x='variable', y=\"value\", data=pd.melt(dataFrame))\n",
        "plt.show()"
      ],
      "execution_count": 125,
      "outputs": [
        {
          "output_type": "display_data",
          "data": {
            "image/png": "[encoded data removed]",
            "text/plain": [
              "<Figure size 432x288 with 1 Axes>"
            ]
          },
          "metadata": {
            "tags": [],
            "needs_background": "light"
          }
        }
      ]
    },
    {
      "cell_type": "markdown",
      "metadata": {
        "id": "75CAmNIQHOg3"
      },
      "source": [
        "From the box plot we again observe the distributions have different range and also outliers but we cannot remove the outliers because the context or background information of the variables is not provided that whether they can be removed or not thats why we would keep the outliers. "
      ]
    },
    {
      "cell_type": "markdown",
      "metadata": {
        "id": "BbOXMke4GKFE"
      },
      "source": [
        "Checking the symmetry in the data"
      ]
    },
    {
      "cell_type": "code",
      "metadata": {
        "id": "fUzNbShA1xJt",
        "outputId": "6acc5e93-5344-4fe3-c507-92cddaa1359e",
        "colab": {
          "base_uri": "https://localhost:8080/",
          "height": 52
        }
      },
      "source": [
        "def SymmetryChecker(series):\n",
        "\n",
        "  \"\"\"This function checks the symmetry of any variable\"\"\"\n",
        "\n",
        "  print('Skewness Value: ',skew(series))  \n",
        "  print('Kurtosis Value: ',kurtosis(series, fisher = True))\n",
        "\n",
        "SymmetryChecker(data['outcomeVar'])"
      ],
      "execution_count": 126,
      "outputs": [
        {
          "output_type": "stream",
          "text": [
            "Skewness Value:  0.5577555665187074\n",
            "Kurtosis Value:  0.5126255966683759\n"
          ],
          "name": "stdout"
        }
      ]
    },
    {
      "cell_type": "markdown",
      "metadata": {
        "id": "TfpQYv7ur4XN"
      },
      "source": [
        "Since the distribution of the outcome variable seemed to be little bit unusual so we are going to verify it through checking its skewness and kurtosis value"
      ]
    },
    {
      "cell_type": "code",
      "metadata": {
        "id": "d-JQh-UY1xME",
        "outputId": "425facb7-0082-4197-d3f3-3b656b9a3e5b",
        "colab": {
          "base_uri": "https://localhost:8080/",
          "height": 319
        }
      },
      "source": [
        "def associationCheckerContVar(dataframe):\n",
        "\n",
        "  \"\"\"This function draws a correlation matrix heat map of all the CONTINUOUS variables\"\"\"\n",
        "\n",
        "  corrMatrix = dataframe.corr()\n",
        "  sns.heatmap(corrMatrix, annot=True)\n",
        "  plt.show()\n",
        "\n",
        "associationCheckerContVar(data.drop(['var_10'],axis=1))"
      ],
      "execution_count": 127,
      "outputs": [
        {
          "output_type": "display_data",
          "data": {
            "image/png": "[encoded data removed]",
            "text/plain": [
              "<Figure size 432x288 with 2 Axes>"
            ]
          },
          "metadata": {
            "tags": [],
            "needs_background": "light"
          }
        }
      ]
    },
    {
      "cell_type": "code",
      "metadata": {
        "id": "2HKkFTdY1xOL",
        "outputId": "ddc9747b-9c22-4c20-92a4-24acab11c6dc",
        "colab": {
          "base_uri": "https://localhost:8080/",
          "height": 35
        }
      },
      "source": [
        "def associationCheckerCatVar(predictor,target):\n",
        "\n",
        "  \"\"\"This fucntion accepts categorical predictor and continuous target variable and determines correlation between them\"\"\"\n",
        "\n",
        "  pbc = pointbiserialr(predictor, target)\n",
        "  print(\"Correlation between Categorical Variable and Continuous Outcome Variable : \",pbc)\n",
        "\n",
        "associationCheckerCatVar(data['var_10'],data['outcomeVar'])"
      ],
      "execution_count": 128,
      "outputs": [
        {
          "output_type": "stream",
          "text": [
            "Correlation between Categorical Variable and Continuous Outcome Variable :  PointbiserialrResult(correlation=-0.05250221865681431, pvalue=1.4948833975929294e-07)\n"
          ],
          "name": "stdout"
        }
      ]
    },
    {
      "cell_type": "code",
      "metadata": {
        "id": "JiTNOjppFlZ6"
      },
      "source": [
        "def scaler(predictors):\n",
        "\n",
        "  \"\"\"This function accepts predictors and scales them using RobustScaler() from Sci-kit Learn. Returns scaled predictors.\"\"\"\n",
        "\n",
        "  robust_scaler = preprocessing.RobustScaler()\n",
        "  scaled_predictors = robust_scaler.fit_transform(predictors)\n",
        "\n",
        "  return scaled_predictors"
      ],
      "execution_count": 129,
      "outputs": []
    },
    {
      "cell_type": "code",
      "metadata": {
        "id": "QcS0gSPuLwI2"
      },
      "source": [
        "def model_statistics(target,predictors):\n",
        "  \n",
        "  \"\"\"This function accepts target variable and predictors and returns OLS model from stats library\"\"\"\n",
        "\n",
        "  X_constant = sm.add_constant(predictors)\n",
        "  lr_model = sm.OLS(target, predictors)\n",
        "  \n",
        "  lr_model = lr_model.fit()\n",
        "  return lr_model"
      ],
      "execution_count": 130,
      "outputs": []
    },
    {
      "cell_type": "code",
      "metadata": {
        "id": "jr8qmWedM0iq"
      },
      "source": [
        "def test_train_splitter(predictor,target,percentage):\n",
        "\n",
        "  \"\"\"This function accepts the predictors. target variable and percentage of split. Returns splits of training and testing data\"\"\"\n",
        "\n",
        "  X_train, X_test, y_train, y_test = train_test_split(predictors,target,test_size=percentage/100, random_state=42)\n",
        "\n",
        "  return X_train, X_test, y_train, y_test"
      ],
      "execution_count": 131,
      "outputs": []
    },
    {
      "cell_type": "code",
      "metadata": {
        "id": "y6X27znyM0lr"
      },
      "source": [
        "def linearity_test(model, y):\n",
        " \n",
        "  \"\"\"This function accepts the model object, target variable and draws two graphs (1) Observed Values vs Predicted Values (2) Predicted vs Residuals\"\"\"\n",
        "\n",
        "  fitted_vals = model.predict()\n",
        "  resids = model.resid\n",
        "\n",
        "  fig, ax = plt.subplots(1,2)\n",
        "    \n",
        "  sns.regplot(x=fitted_vals, y=y, lowess=True, ax=ax[0], line_kws={'color': 'red'})\n",
        "  ax[0].set_title('Observed vs. Predicted Values', fontsize=16)\n",
        "  ax[0].set(xlabel='Predicted', ylabel='Observed')\n",
        "\n",
        "  sns.regplot(x=fitted_vals, y=resids, lowess=True, ax=ax[1], line_kws={'color': 'red'})\n",
        "  ax[1].set_title('Residuals vs. Predicted Values', fontsize=16)\n",
        "  ax[1].set(xlabel='Predicted', ylabel='Residuals')"
      ],
      "execution_count": 132,
      "outputs": []
    },
    {
      "cell_type": "markdown",
      "metadata": {
        "id": "iGbLCPYvq2-G"
      },
      "source": [
        "Separating predictors and outcome variable"
      ]
    },
    {
      "cell_type": "code",
      "metadata": {
        "id": "kzAduzgCOnz_"
      },
      "source": [
        "def meanResidualsChecker(model):\n",
        "\n",
        "  \"\"\"This function accepts the model object and returns the mean of residuals of the model\"\"\"\n",
        "  \n",
        "  meanResidVal=model.resid.mean()\n",
        "  return meanResidVal"
      ],
      "execution_count": 133,
      "outputs": []
    },
    {
      "cell_type": "code",
      "metadata": {
        "id": "jKKGOSHpOoEw"
      },
      "source": [
        "def varianceInflationChecker(predictors): \n",
        "\n",
        "  \"\"\" This function accepts predictors and determines their VIF value. Return a datframe of VIF values of features \"\"\"\n",
        "  \n",
        "  vif = pd.DataFrame()\n",
        "  vif[\"Features\"] = predictors.columns\n",
        "  vif[\"VIF Factor\"] = [variance_inflation_factor(predictors.values, i) for i in range(predictors.shape[1])]\n",
        "  \n",
        "  return vif"
      ],
      "execution_count": 134,
      "outputs": []
    },
    {
      "cell_type": "code",
      "metadata": {
        "id": "FMKkMt-IOoPE"
      },
      "source": [
        "def homoscedasticity_test(model):\n",
        "    \"\"\"\n",
        "    Function for testing the homoscedasticity of residuals in a linear regression model.\n",
        "    It plots residuals and standardized residuals vs. fitted values and runs Breusch-Pagan and Goldfeld-Quandt tests.\"\"\"\n",
        "    \n",
        "    fitted_vals = model.predict()\n",
        "    resids = model.resid\n",
        "    resids_standardized = model.get_influence().resid_studentized_internal\n",
        "\n",
        "    fig, ax = plt.subplots(1,2)\n",
        "\n",
        "    sns.regplot(x=fitted_vals, y=resids, lowess=True, ax=ax[0], line_kws={'color': 'red'})\n",
        "    ax[0].set_title('Residuals vs Fitted', fontsize=16)\n",
        "    ax[0].set(xlabel='Fitted Values', ylabel='Residuals')\n",
        "\n",
        "    sns.regplot(x=fitted_vals, y=np.sqrt(np.abs(resids_standardized)), lowess=True, ax=ax[1], line_kws={'color': 'red'})\n",
        "    ax[1].set_title('Scale-Location', fontsize=16)\n",
        "    ax[1].set(xlabel='Fitted Values', ylabel='sqrt(abs(Residuals))')"
      ],
      "execution_count": 135,
      "outputs": []
    },
    {
      "cell_type": "code",
      "metadata": {
        "id": "yzYUJe2pWr7x"
      },
      "source": [
        "def normality_of_residuals_test(model):\n",
        "    \n",
        "    \"\"\"\"This function accepts model object and draws normal QQ-plot of the residuals\"\"\"\n",
        "    \n",
        "    sm.ProbPlot(model.resid).qqplot(line='s');\n",
        "    plt.title('Q-Q plot');"
      ],
      "execution_count": 136,
      "outputs": []
    },
    {
      "cell_type": "code",
      "metadata": {
        "id": "RyQMg96zWsBj"
      },
      "source": [
        "def variance_checker(predictor):\n",
        "  \n",
        "  \"\"\"This function accepts the predictors and display the variance in the features\"\"\"\n",
        "\n",
        "  print(\"Variance in the features\")\n",
        "  print(predictor.apply(np.var, axis=0))"
      ],
      "execution_count": 137,
      "outputs": []
    },
    {
      "cell_type": "code",
      "metadata": {
        "id": "D6syxZv4OocR"
      },
      "source": [
        "def model_trainer(model,X_train,y_train):\n",
        "  \n",
        "  \"\"\"This funtion accepts model object, training data excluding outcome variable and training data of outcome variable. Fits the training data and returns fitted values\"\"\"\n",
        "\n",
        "  fittedValues=model.fit(X_train, y_train)\n",
        "  return fittedValues"
      ],
      "execution_count": 138,
      "outputs": []
    },
    {
      "cell_type": "code",
      "metadata": {
        "id": "MGjfRFIROoo-"
      },
      "source": [
        " def model_predictions(model,X_train,X_test):\n",
        "\n",
        "  \"\"\"This function accepts model object, training data excluding outcome variable and test data excluding outcome variable. Performs prediction and returns train and test predictions on \n",
        "  outcome variable\"\"\"\n",
        "\n",
        "  y_train_pred = model.predict(X_train)\n",
        "  y_test_pred = model.predict(X_test)\n",
        "    \n",
        "  return y_train_pred,y_test_pred"
      ],
      "execution_count": 139,
      "outputs": []
    },
    {
      "cell_type": "code",
      "metadata": {
        "id": "U8-zbjjjfJQ7"
      },
      "source": [
        "def cross_validation(model,fold,predictors,target):\n",
        "\n",
        "  \"\"\"This function accepts model object, number of folds to be performed on cross validation, predictors and target variable. Performs Cross Validation and displays the mean result of\n",
        "  cross validation score.\"\"\"\n",
        "\n",
        "  kfold = KFold(fold, True, 1)\n",
        "  kfold_results=model_selection.cross_val_score(model, predictors,target, cv=kfold)\n",
        "  print(\"Coefficient of Determination of Mean Cross Validation: %.2f%%\" % (kfold_results.mean()*100.0)) "
      ],
      "execution_count": 140,
      "outputs": []
    },
    {
      "cell_type": "code",
      "metadata": {
        "id": "CmL7fBVwX-zA"
      },
      "source": [
        "def model_weights_graph(model):\n",
        "\n",
        "  plt.figure(figsize=(10,6))\n",
        "  plt.plot(range(len(model.coef_[0])),model.coef_[0])\n",
        "  plt.axhline(0, color='r', linestyle='solid')\n",
        "  plt.xticks(range(len(feature_names)),feature_names,rotation=50)\n",
        "  plt.title(\"Coefficients of Model\")\n",
        "  plt.ylabel(\"Coefficients\")\n",
        "  plt.xlabel(\"Features\")\n",
        "  plt.show()"
      ],
      "execution_count": 141,
      "outputs": []
    },
    {
      "cell_type": "code",
      "metadata": {
        "id": "6Z2OEmesY8u7"
      },
      "source": [
        "def model_weight_display(model):\n",
        "  \n",
        "  print(model.coef_[0])"
      ],
      "execution_count": 142,
      "outputs": []
    },
    {
      "cell_type": "code",
      "metadata": {
        "id": "uzUgcBGkaYUZ"
      },
      "source": [
        "def regPerformanceMetrics(model,y_train,y_train_pred,y_test,y_test_pred):\n",
        "\n",
        "  \"\"\"This function displays performance metrics of regression model. Accepts model object, training set of outcome variable, predictions made for outcome variable, testing set of outcome variable\n",
        "  and predictions made on test set of outcome variable\"\"\"\n",
        "\n",
        "  print('Root Mean Squared Error of Training Data: ',np.sqrt(mean_squared_error(y_train,y_train_pred)))\n",
        "  print('Root Mean Squared Error of Test Data: ',np.sqrt(mean_squared_error(y_test,y_test_pred)))\n",
        "  print('--------------------------------------------------------------')\n",
        "  print('Mean Squared Error of Training Data: ',mean_squared_error(y_train,y_train_pred))\n",
        "  print('Mean Squared Error of Test Data: ',mean_squared_error(y_test,y_test_pred))\n",
        "  print('--------------------------------------------------------------')\n",
        "  print('Mean Absolute Error of Training Data: ',mean_absolute_error(y_train,y_train_pred))\n",
        "  print('Mean Absolute Error of Test Data: ',mean_absolute_error(y_test,y_test_pred))\n",
        "  print('--------------------------------------------------------------')\n",
        "  print('R-squared of Training Data: ',r2_score(y_train,y_train_pred)*100)\n",
        "  print('R-squared of Test Data: ',r2_score(y_test,y_test_pred)*100)"
      ],
      "execution_count": 143,
      "outputs": []
    },
    {
      "cell_type": "code",
      "metadata": {
        "id": "j5k5vkvlK0N_"
      },
      "source": [
        "predictors = data.drop(['outcomeVar'],axis=1) \n",
        "target = data['outcomeVar']"
      ],
      "execution_count": 144,
      "outputs": []
    },
    {
      "cell_type": "markdown",
      "metadata": {
        "id": "UMIiqPBwqnGX"
      },
      "source": [
        "Label Encoding of the categorical variable since this variable has only 5 discrete levels"
      ]
    },
    {
      "cell_type": "code",
      "metadata": {
        "id": "NxkxYmDjQCJn"
      },
      "source": [
        "names=[]\n",
        "dummies = pd.get_dummies(data['var_10'])\n",
        "\n",
        "for col in dummies.columns:\n",
        "  names.append(\"var_10_\"+str(col)+\"_Yes\")\n",
        "\n",
        "dummies.columns = names\n",
        "predictors=predictors.join(dummies)\n",
        "predictors=predictors.drop('var_10',axis=1)"
      ],
      "execution_count": 145,
      "outputs": []
    },
    {
      "cell_type": "markdown",
      "metadata": {
        "id": "htVrFDeJa1gP"
      },
      "source": [
        "### Building a Linear Regression Model taking all the predictors into account"
      ]
    },
    {
      "cell_type": "markdown",
      "metadata": {
        "id": "Kj8wFI6qa_XF"
      },
      "source": [
        "Linear Regression was chosen because Outcome Variable we are trying to predict is continuous"
      ]
    },
    {
      "cell_type": "markdown",
      "metadata": {
        "id": "n3y6udfMchNb"
      },
      "source": [
        "Before building the Linear Regression model we should be checking if all the assumptions of Linear Regression model are being satisfied or not:\n",
        "\n",
        "1. Linearity Test\n",
        "2. Mean of the residuals to be zero\n",
        "3. No Multi Collinearity (For this we will be checking through Variance Inflation Factor)\n",
        "4. Homoscedasticity of Residuals\n",
        "5. Normality of Residuals"
      ]
    },
    {
      "cell_type": "markdown",
      "metadata": {
        "id": "0mYW2E0Bf_wH"
      },
      "source": [
        "Checking all the assumptions one by one"
      ]
    },
    {
      "cell_type": "code",
      "metadata": {
        "id": "VwZRDhvBcf-6"
      },
      "source": [
        "summary_model = model_statistics(target,predictors)"
      ],
      "execution_count": 146,
      "outputs": []
    },
    {
      "cell_type": "markdown",
      "metadata": {
        "id": "dZgJjezngSBb"
      },
      "source": [
        "1. Checking Linearity"
      ]
    },
    {
      "cell_type": "code",
      "metadata": {
        "id": "YcXsIz_DgZrf",
        "outputId": "4d185158-fe3f-43ff-d8e8-5dc3bd833485",
        "colab": {
          "base_uri": "https://localhost:8080/",
          "height": 297
        }
      },
      "source": [
        "linearity_test(summary_model,target)"
      ],
      "execution_count": 147,
      "outputs": [
        {
          "output_type": "display_data",
          "data": {
            "image/png": "[encoded data removed]",
            "text/plain": [
              "<Figure size 432x288 with 2 Axes>"
            ]
          },
          "metadata": {
            "tags": [],
            "needs_background": "light"
          }
        }
      ]
    },
    {
      "cell_type": "markdown",
      "metadata": {
        "id": "Ir8jqN0Lg1Pw"
      },
      "source": [
        "2. Checking Mean of Residuals whether it is zero or not"
      ]
    },
    {
      "cell_type": "code",
      "metadata": {
        "id": "VeO9gHxQg73u",
        "outputId": "e9104bd5-cb51-43c4-a161-bdf04a077f08",
        "colab": {
          "base_uri": "https://localhost:8080/",
          "height": 35
        }
      },
      "source": [
        "meanResidualsChecker(summary_model)"
      ],
      "execution_count": 148,
      "outputs": [
        {
          "output_type": "execute_result",
          "data": {
            "text/plain": [
              "-2.0943364376080352e-12"
            ]
          },
          "metadata": {
            "tags": []
          },
          "execution_count": 148
        }
      ]
    },
    {
      "cell_type": "markdown",
      "metadata": {
        "id": "rp1L44vghF_r"
      },
      "source": [
        "3. No Multi Collinearity"
      ]
    },
    {
      "cell_type": "code",
      "metadata": {
        "id": "YysMyZlLhLfH",
        "outputId": "06f3f648-5ee9-440b-dab2-ccbb598d9087",
        "colab": {
          "base_uri": "https://localhost:8080/",
          "height": 458
        }
      },
      "source": [
        "varianceInflationChecker(predictors)"
      ],
      "execution_count": 149,
      "outputs": [
        {
          "output_type": "execute_result",
          "data": {
            "text/html": [
              "<div>\n",
              "<style scoped>\n",
              "    .dataframe tbody tr th:only-of-type {\n",
              "        vertical-align: middle;\n",
              "    }\n",
              "\n",
              "    .dataframe tbody tr th {\n",
              "        vertical-align: top;\n",
              "    }\n",
              "\n",
              "    .dataframe thead th {\n",
              "        text-align: right;\n",
              "    }\n",
              "</style>\n",
              "<table border=\"1\" class=\"dataframe\">\n",
              "  <thead>\n",
              "    <tr style=\"text-align: right;\">\n",
              "      <th></th>\n",
              "      <th>Features</th>\n",
              "      <th>VIF Factor</th>\n",
              "    </tr>\n",
              "  </thead>\n",
              "  <tbody>\n",
              "    <tr>\n",
              "      <th>0</th>\n",
              "      <td>var_1</td>\n",
              "      <td>5.826514</td>\n",
              "    </tr>\n",
              "    <tr>\n",
              "      <th>1</th>\n",
              "      <td>var_2</td>\n",
              "      <td>4.501810</td>\n",
              "    </tr>\n",
              "    <tr>\n",
              "      <th>2</th>\n",
              "      <td>var_3</td>\n",
              "      <td>19.656560</td>\n",
              "    </tr>\n",
              "    <tr>\n",
              "      <th>3</th>\n",
              "      <td>var_4</td>\n",
              "      <td>3.148125</td>\n",
              "    </tr>\n",
              "    <tr>\n",
              "      <th>4</th>\n",
              "      <td>var_5</td>\n",
              "      <td>13.313758</td>\n",
              "    </tr>\n",
              "    <tr>\n",
              "      <th>5</th>\n",
              "      <td>var_6</td>\n",
              "      <td>3.107552</td>\n",
              "    </tr>\n",
              "    <tr>\n",
              "      <th>6</th>\n",
              "      <td>var_7</td>\n",
              "      <td>6.024457</td>\n",
              "    </tr>\n",
              "    <tr>\n",
              "      <th>7</th>\n",
              "      <td>var_8</td>\n",
              "      <td>1.643089</td>\n",
              "    </tr>\n",
              "    <tr>\n",
              "      <th>8</th>\n",
              "      <td>var_9</td>\n",
              "      <td>17.079326</td>\n",
              "    </tr>\n",
              "    <tr>\n",
              "      <th>9</th>\n",
              "      <td>var_10_1_Yes</td>\n",
              "      <td>19.829553</td>\n",
              "    </tr>\n",
              "    <tr>\n",
              "      <th>10</th>\n",
              "      <td>var_10_2_Yes</td>\n",
              "      <td>19.972782</td>\n",
              "    </tr>\n",
              "    <tr>\n",
              "      <th>11</th>\n",
              "      <td>var_10_3_Yes</td>\n",
              "      <td>20.388910</td>\n",
              "    </tr>\n",
              "    <tr>\n",
              "      <th>12</th>\n",
              "      <td>var_10_4_Yes</td>\n",
              "      <td>21.344177</td>\n",
              "    </tr>\n",
              "    <tr>\n",
              "      <th>13</th>\n",
              "      <td>var_10_5_Yes</td>\n",
              "      <td>20.611520</td>\n",
              "    </tr>\n",
              "  </tbody>\n",
              "</table>\n",
              "</div>"
            ],
            "text/plain": [
              "        Features  VIF Factor\n",
              "0          var_1    5.826514\n",
              "1          var_2    4.501810\n",
              "2          var_3   19.656560\n",
              "3          var_4    3.148125\n",
              "4          var_5   13.313758\n",
              "5          var_6    3.107552\n",
              "6          var_7    6.024457\n",
              "7          var_8    1.643089\n",
              "8          var_9   17.079326\n",
              "9   var_10_1_Yes   19.829553\n",
              "10  var_10_2_Yes   19.972782\n",
              "11  var_10_3_Yes   20.388910\n",
              "12  var_10_4_Yes   21.344177\n",
              "13  var_10_5_Yes   20.611520"
            ]
          },
          "metadata": {
            "tags": []
          },
          "execution_count": 149
        }
      ]
    },
    {
      "cell_type": "markdown",
      "metadata": {
        "id": "dwdlxOQChWJX"
      },
      "source": [
        "4. Homoscedasticity of Residuals"
      ]
    },
    {
      "cell_type": "code",
      "metadata": {
        "id": "cWzVMJzhhn83",
        "outputId": "7240ed07-7b2c-4cc8-abea-9180bb455205",
        "colab": {
          "base_uri": "https://localhost:8080/",
          "height": 297
        }
      },
      "source": [
        "homoscedasticity_test(summary_model)"
      ],
      "execution_count": 150,
      "outputs": [
        {
          "output_type": "display_data",
          "data": {
            "image/png": "[encoded data removed]",
            "text/plain": [
              "<Figure size 432x288 with 2 Axes>"
            ]
          },
          "metadata": {
            "tags": [],
            "needs_background": "light"
          }
        }
      ]
    },
    {
      "cell_type": "markdown",
      "metadata": {
        "id": "kL-71Ltjjcxa"
      },
      "source": [
        "5. Normality of Residuals"
      ]
    },
    {
      "cell_type": "code",
      "metadata": {
        "id": "lHowBHXNjhNy",
        "outputId": "005c2580-2885-460b-b79c-c3ba6520b32d",
        "colab": {
          "base_uri": "https://localhost:8080/",
          "height": 295
        }
      },
      "source": [
        "normality_of_residuals_test(summary_model)"
      ],
      "execution_count": 151,
      "outputs": [
        {
          "output_type": "display_data",
          "data": {
            "image/png": "[encoded data removed]",
            "text/plain": [
              "<Figure size 432x288 with 1 Axes>"
            ]
          },
          "metadata": {
            "tags": [],
            "needs_background": "light"
          }
        }
      ]
    },
    {
      "cell_type": "markdown",
      "metadata": {
        "id": "_Nz9KaR5bRoG"
      },
      "source": [
        "Scaling the predictors through RobustScaler() from Scikit Learn since we have outliers in  data and splitting our data into train and test set"
      ]
    },
    {
      "cell_type": "code",
      "metadata": {
        "id": "DQGeHctZcphW"
      },
      "source": [
        "predictors=scaler(predictors)\n",
        "X_train, X_test, y_train, y_test = test_train_splitter(predictors,target,33)"
      ],
      "execution_count": 152,
      "outputs": []
    },
    {
      "cell_type": "markdown",
      "metadata": {
        "id": "G2x6cHO5bjY-"
      },
      "source": [
        "Creating a Linear Regression model and fitting the data"
      ]
    },
    {
      "cell_type": "code",
      "metadata": {
        "id": "XWMhKgS1eOQU"
      },
      "source": [
        "reg = LinearRegression(fit_intercept=True)\n",
        "trainedModel = model_trainer(reg,X_train,y_train)"
      ],
      "execution_count": 153,
      "outputs": []
    },
    {
      "cell_type": "markdown",
      "metadata": {
        "id": "8nFxgZCSkGiE"
      },
      "source": [
        "Making the predictions from the model"
      ]
    },
    {
      "cell_type": "code",
      "metadata": {
        "id": "HqJaVgSleQBN",
        "outputId": "55bd79b3-3c8a-47ca-b650-ae9af0432229",
        "colab": {
          "base_uri": "https://localhost:8080/",
          "height": 35
        }
      },
      "source": [
        "y_train_pred,y_test_pred = model_predictions(trainedModel,X_train,X_test)\n",
        "cross_validation(reg,3,predictors,target)"
      ],
      "execution_count": 154,
      "outputs": [
        {
          "output_type": "stream",
          "text": [
            "Coefficient of Determination of Mean Cross Validation: 79.84%\n"
          ],
          "name": "stdout"
        }
      ]
    },
    {
      "cell_type": "markdown",
      "metadata": {
        "id": "L1uY8hmTkSYR"
      },
      "source": [
        "Goodness of fit (Evaluating Performance)"
      ]
    },
    {
      "cell_type": "code",
      "metadata": {
        "id": "fvIR-xT_fpQ2",
        "outputId": "57215c63-156b-42be-e6e6-fdafd79b0e8d",
        "colab": {
          "base_uri": "https://localhost:8080/",
          "height": 212
        }
      },
      "source": [
        "regPerformanceMetrics(reg,y_train,y_train_pred,y_test,y_test_pred)"
      ],
      "execution_count": 155,
      "outputs": [
        {
          "output_type": "stream",
          "text": [
            "Root Mean Squared Error of Training Data:  7.2196067155074\n",
            "Root Mean Squared Error of Test Data:  7.108496789099119\n",
            "--------------------------------------------------------------\n",
            "Mean Squared Error of Training Data:  52.12272112659955\n",
            "Mean Squared Error of Test Data:  50.53072660063249\n",
            "--------------------------------------------------------------\n",
            "Mean Absolute Error of Training Data:  5.516693344847994\n",
            "Mean Absolute Error of Test Data:  5.451984784905925\n",
            "--------------------------------------------------------------\n",
            "R-squared of Training Data:  79.58804337620643\n",
            "R-squared of Test Data:  80.4892966004799\n"
          ],
          "name": "stdout"
        }
      ]
    },
    {
      "cell_type": "markdown",
      "metadata": {
        "id": "tWP5Intrky_I"
      },
      "source": [
        "### Building a Linear Regression model but taking few features"
      ]
    },
    {
      "cell_type": "markdown",
      "metadata": {
        "id": "ajX36nZQ3bed"
      },
      "source": [
        "By looking at the correlation matrix and the results from OLS model, I found that the p-value of few variables were not significant and also by looking at the correlation matrix I observed that there exist a multi collinearity between the variables. So, in this case I dropped few variables and took the approach to go with the few variables. Variables taken below have significant P-value and they do not have correlation between them. "
      ]
    },
    {
      "cell_type": "code",
      "metadata": {
        "id": "XnYRewqqs0Ad"
      },
      "source": [
        "predictors=data[['var_2','var_5','var_7','var_9']]"
      ],
      "execution_count": 156,
      "outputs": []
    },
    {
      "cell_type": "markdown",
      "metadata": {
        "id": "cuXbyajG4e-p"
      },
      "source": [
        "Scaling the predictors"
      ]
    },
    {
      "cell_type": "code",
      "metadata": {
        "id": "JyIYobTSs-uu"
      },
      "source": [
        "predictors=scaler(predictors)"
      ],
      "execution_count": 157,
      "outputs": []
    },
    {
      "cell_type": "markdown",
      "metadata": {
        "id": "N3T28RHe5AkL"
      },
      "source": [
        "From this point we need to again check the assumptions before doing Linear Regression"
      ]
    },
    {
      "cell_type": "code",
      "metadata": {
        "id": "0IWhF-YD5ICn"
      },
      "source": [
        "summary_model = model_statistics(target,predictors)"
      ],
      "execution_count": 158,
      "outputs": []
    },
    {
      "cell_type": "markdown",
      "metadata": {
        "id": "m0l8LA6b5MZL"
      },
      "source": [
        "1. Linearity Test"
      ]
    },
    {
      "cell_type": "code",
      "metadata": {
        "id": "z35BgVyd5IYg",
        "outputId": "0755213b-f8c8-4869-ba7d-84852935069f",
        "colab": {
          "base_uri": "https://localhost:8080/",
          "height": 297
        }
      },
      "source": [
        "linearity_test(summary_model,target)"
      ],
      "execution_count": 159,
      "outputs": [
        {
          "output_type": "display_data",
          "data": {
            "image/png": "[encoded data removed]",
            "text/plain": [
              "<Figure size 432x288 with 2 Axes>"
            ]
          },
          "metadata": {
            "tags": [],
            "needs_background": "light"
          }
        }
      ]
    },
    {
      "cell_type": "markdown",
      "metadata": {
        "id": "rvZOZrbJ5f3M"
      },
      "source": [
        "2. Checking Mean of Residuals whether it is zero or not"
      ]
    },
    {
      "cell_type": "code",
      "metadata": {
        "id": "J3kg0nZH5Ibk",
        "outputId": "cd0b8b7c-8711-4489-916b-2bfa3079cf52",
        "colab": {
          "base_uri": "https://localhost:8080/",
          "height": 35
        }
      },
      "source": [
        "meanResidualsChecker(summary_model)"
      ],
      "execution_count": 160,
      "outputs": [
        {
          "output_type": "execute_result",
          "data": {
            "text/plain": [
              "12.109207719079992"
            ]
          },
          "metadata": {
            "tags": []
          },
          "execution_count": 160
        }
      ]
    },
    {
      "cell_type": "markdown",
      "metadata": {
        "id": "qc5eRsdo6DbB"
      },
      "source": [
        "3. Homoscedasticity of Residuals"
      ]
    },
    {
      "cell_type": "code",
      "metadata": {
        "id": "6zllmMVH5Ikg",
        "outputId": "cf3440be-2222-4353-a62e-3116592ce637",
        "colab": {
          "base_uri": "https://localhost:8080/",
          "height": 297
        }
      },
      "source": [
        "homoscedasticity_test(summary_model)"
      ],
      "execution_count": 161,
      "outputs": [
        {
          "output_type": "display_data",
          "data": {
            "image/png": "[encoded data removed]",
            "text/plain": [
              "<Figure size 432x288 with 2 Axes>"
            ]
          },
          "metadata": {
            "tags": [],
            "needs_background": "light"
          }
        }
      ]
    },
    {
      "cell_type": "markdown",
      "metadata": {
        "id": "GVCNjQo76jZT"
      },
      "source": [
        "4. Normality of Residuals"
      ]
    },
    {
      "cell_type": "code",
      "metadata": {
        "id": "BIhqo9IX6r5S",
        "outputId": "97803080-dafa-4f0d-ed89-6863a537ee1e",
        "colab": {
          "base_uri": "https://localhost:8080/",
          "height": 295
        }
      },
      "source": [
        "normality_of_residuals_test(summary_model)"
      ],
      "execution_count": 162,
      "outputs": [
        {
          "output_type": "display_data",
          "data": {
            "image/png": "[encoded data removed]",
            "text/plain": [
              "<Figure size 432x288 with 1 Axes>"
            ]
          },
          "metadata": {
            "tags": [],
            "needs_background": "light"
          }
        }
      ]
    },
    {
      "cell_type": "markdown",
      "metadata": {
        "id": "G2RIWooV6zO9"
      },
      "source": [
        "As all the assumtpions have been checked once again, now we will continue to model building part"
      ]
    },
    {
      "cell_type": "markdown",
      "metadata": {
        "id": "WGQfXOEx4iFZ"
      },
      "source": [
        "Splitting the data into test and train split"
      ]
    },
    {
      "cell_type": "code",
      "metadata": {
        "id": "G3hF_fy2x4Mp"
      },
      "source": [
        "X_train, X_test, y_train, y_test = test_train_splitter(predictors,target,33)"
      ],
      "execution_count": 163,
      "outputs": []
    },
    {
      "cell_type": "markdown",
      "metadata": {
        "id": "k0scaQGW6-sR"
      },
      "source": [
        "Training the model"
      ]
    },
    {
      "cell_type": "code",
      "metadata": {
        "id": "gWoMIN7rubEf"
      },
      "source": [
        "trainedModel = model_trainer(reg,X_train,y_train)"
      ],
      "execution_count": 164,
      "outputs": []
    },
    {
      "cell_type": "markdown",
      "metadata": {
        "id": "YGx6VJ7Q7BLt"
      },
      "source": [
        "Making the predictions"
      ]
    },
    {
      "cell_type": "code",
      "metadata": {
        "id": "0Reka01gyDkP"
      },
      "source": [
        "y_train_pred,y_test_pred = model_predictions(trainedModel,X_train,X_test)"
      ],
      "execution_count": 165,
      "outputs": []
    },
    {
      "cell_type": "markdown",
      "metadata": {
        "id": "bEKbMvW37D-e"
      },
      "source": [
        "Cross validating"
      ]
    },
    {
      "cell_type": "code",
      "metadata": {
        "id": "8ukfP20YyGc_",
        "outputId": "e5bef222-f29b-47c6-f4e0-a5f98a1ec059",
        "colab": {
          "base_uri": "https://localhost:8080/",
          "height": 35
        }
      },
      "source": [
        "cross_validation(reg,3,predictors,target)"
      ],
      "execution_count": 166,
      "outputs": [
        {
          "output_type": "stream",
          "text": [
            "Coefficient of Determination of Mean Cross Validation: 73.57%\n"
          ],
          "name": "stdout"
        }
      ]
    },
    {
      "cell_type": "markdown",
      "metadata": {
        "id": "s2xeD6NP7F6X"
      },
      "source": [
        "Evaluating Performance"
      ]
    },
    {
      "cell_type": "code",
      "metadata": {
        "id": "ZXVor7yMyKxX",
        "outputId": "bd28eba6-6544-43d9-e816-c607588f00cf",
        "colab": {
          "base_uri": "https://localhost:8080/",
          "height": 212
        }
      },
      "source": [
        "regPerformanceMetrics(reg,y_train,y_train_pred,y_test,y_test_pred)"
      ],
      "execution_count": 167,
      "outputs": [
        {
          "output_type": "stream",
          "text": [
            "Root Mean Squared Error of Training Data:  8.310439425847377\n",
            "Root Mean Squared Error of Test Data:  8.07234463714382\n",
            "--------------------------------------------------------------\n",
            "Mean Squared Error of Training Data:  69.06340345067848\n",
            "Mean Squared Error of Test Data:  65.16274794082457\n",
            "--------------------------------------------------------------\n",
            "Mean Absolute Error of Training Data:  6.48427965489578\n",
            "Mean Absolute Error of Test Data:  6.34414293602026\n",
            "--------------------------------------------------------------\n",
            "R-squared of Training Data:  72.95384498244492\n",
            "R-squared of Test Data:  74.83964444407567\n"
          ],
          "name": "stdout"
        }
      ]
    },
    {
      "cell_type": "markdown",
      "metadata": {
        "id": "tA_CZVlt8yi6"
      },
      "source": [
        "Even with taking few predictors which didn't have multi collinearity didn't increase the accuracy. So, this motivates us to move towards Regularisation Techniques"
      ]
    },
    {
      "cell_type": "markdown",
      "metadata": {
        "id": "1PZU5HdS9AlU"
      },
      "source": [
        "Building Ridge Regression Model taking all the predictors so that the model can do the feature selection on its own"
      ]
    },
    {
      "cell_type": "code",
      "metadata": {
        "id": "kIFIiswUPyCT"
      },
      "source": [
        "predictors = data.drop(['outcomeVar'],axis=1)\n",
        "predictors=scaler(predictors)\n",
        "\n",
        "X_train, X_test, y_train, y_test = test_train_splitter(predictors,target,25)"
      ],
      "execution_count": 168,
      "outputs": []
    },
    {
      "cell_type": "markdown",
      "metadata": {
        "id": "sou9VTZQ9ZBP"
      },
      "source": [
        "Taking potential values of alpha"
      ]
    },
    {
      "cell_type": "code",
      "metadata": {
        "id": "OepJ_mLrP-cT"
      },
      "source": [
        "alpha_values = {'alpha':[0.001, 0.01,0.02,0.03,0.04, 0.05, 0.06, 0.08, 1, 2, 3, 5, 8, 10, 20, 50, 100]}"
      ],
      "execution_count": 169,
      "outputs": []
    },
    {
      "cell_type": "code",
      "metadata": {
        "id": "PLv-_9VzQC6p"
      },
      "source": [
        "ridge= GridSearchCV(Ridge(), alpha_values, scoring='r2', cv=10 )"
      ],
      "execution_count": 170,
      "outputs": []
    },
    {
      "cell_type": "code",
      "metadata": {
        "id": "QYxWNJ97QwDA",
        "outputId": "1c9ca8ae-9238-402e-b01b-cee0fc301fcb",
        "colab": {
          "base_uri": "https://localhost:8080/",
          "height": 52
        }
      },
      "source": [
        "trainedModel = model_trainer(ridge,X_train,y_train)\n",
        "print(\"Best Alpha Value: \",trainedModel.best_params_)\n",
        "print(\"Best Score: \",trainedModel.best_score_)"
      ],
      "execution_count": 171,
      "outputs": [
        {
          "output_type": "stream",
          "text": [
            "Best Alpha Value:  {'alpha': 3}\n",
            "Best Score:  0.7701014827924457\n"
          ],
          "name": "stdout"
        }
      ]
    },
    {
      "cell_type": "markdown",
      "metadata": {
        "id": "mTSy3Tv29p9A"
      },
      "source": [
        "Making the predictions from Ridge Model"
      ]
    },
    {
      "cell_type": "code",
      "metadata": {
        "id": "CVgaCt4tSPt0"
      },
      "source": [
        "y_train_pred,y_test_pred = model_predictions(trainedModel,X_train,X_test)"
      ],
      "execution_count": 172,
      "outputs": []
    },
    {
      "cell_type": "markdown",
      "metadata": {
        "id": "_CjL--XD9tmm"
      },
      "source": [
        "Evaluating the performance"
      ]
    },
    {
      "cell_type": "code",
      "metadata": {
        "id": "7vlnV2JtSXNW",
        "outputId": "02778b53-142a-4459-eb82-1c4442c4a3b0",
        "colab": {
          "base_uri": "https://localhost:8080/",
          "height": 35
        }
      },
      "source": [
        "print(\"Coefficient of Determination: \",round(ridge.score(X_test,y_test)*100,2),'%')"
      ],
      "execution_count": 173,
      "outputs": [
        {
          "output_type": "stream",
          "text": [
            "Coefficient of Determination:  77.66 %\n"
          ],
          "name": "stdout"
        }
      ]
    },
    {
      "cell_type": "code",
      "metadata": {
        "id": "P5MvXXISSRRi",
        "outputId": "cf88804e-c44d-41eb-cf07-e1ccd3b641b2",
        "colab": {
          "base_uri": "https://localhost:8080/",
          "height": 212
        }
      },
      "source": [
        "regPerformanceMetrics(ridge,y_train,y_train_pred,y_test,y_test_pred)"
      ],
      "execution_count": 174,
      "outputs": [
        {
          "output_type": "stream",
          "text": [
            "Root Mean Squared Error of Training Data:  7.676174143811466\n",
            "Root Mean Squared Error of Test Data:  7.498474447663537\n",
            "--------------------------------------------------------------\n",
            "Mean Squared Error of Training Data:  58.92364948611969\n",
            "Mean Squared Error of Test Data:  56.22711904226299\n",
            "--------------------------------------------------------------\n",
            "Mean Absolute Error of Training Data:  5.907940967243395\n",
            "Mean Absolute Error of Test Data:  5.847705022787636\n",
            "--------------------------------------------------------------\n",
            "R-squared of Training Data:  77.18267889283975\n",
            "R-squared of Test Data:  77.65731276530778\n"
          ],
          "name": "stdout"
        }
      ]
    },
    {
      "cell_type": "markdown",
      "metadata": {
        "id": "cLXN17xP9yqP"
      },
      "source": [
        "Building a Lasso Model"
      ]
    },
    {
      "cell_type": "code",
      "metadata": {
        "id": "sZFYtvSCcfeP"
      },
      "source": [
        "lasso= GridSearchCV(Lasso(), alpha_values, scoring='r2', cv=10 )"
      ],
      "execution_count": 175,
      "outputs": []
    },
    {
      "cell_type": "code",
      "metadata": {
        "id": "94igMryNcfqZ",
        "outputId": "d2cded92-544c-4160-94d4-242f99dd3a8b",
        "colab": {
          "base_uri": "https://localhost:8080/",
          "height": 52
        }
      },
      "source": [
        "trainedModel = model_trainer(lasso,X_train,y_train)\n",
        "print(\"Best Alpha Value: \",trainedModel.best_params_)\n",
        "print(\"Best Score: \",trainedModel.best_score_)"
      ],
      "execution_count": 176,
      "outputs": [
        {
          "output_type": "stream",
          "text": [
            "Best Alpha Value:  {'alpha': 0.03}\n",
            "Best Score:  0.7702704992203527\n"
          ],
          "name": "stdout"
        }
      ]
    },
    {
      "cell_type": "markdown",
      "metadata": {
        "id": "GPZojHxE98GP"
      },
      "source": [
        "Making the Predictions from the model"
      ]
    },
    {
      "cell_type": "code",
      "metadata": {
        "id": "XQc4I1G8yW5A"
      },
      "source": [
        "y_train_pred,y_test_pred = model_predictions(trainedModel,X_train,X_test)"
      ],
      "execution_count": 177,
      "outputs": []
    },
    {
      "cell_type": "markdown",
      "metadata": {
        "id": "FJ7SkaSt9_kx"
      },
      "source": [
        "Evaluating the model"
      ]
    },
    {
      "cell_type": "code",
      "metadata": {
        "id": "0S5wP9KPyYGc",
        "outputId": "094c8a2b-2762-4496-8283-7fd0d11aee3e",
        "colab": {
          "base_uri": "https://localhost:8080/",
          "height": 35
        }
      },
      "source": [
        "print(\"Coefficient of Determination: \",round(lasso.score(X_test,y_test)*100,2),'%')"
      ],
      "execution_count": 178,
      "outputs": [
        {
          "output_type": "stream",
          "text": [
            "Coefficient of Determination:  77.64 %\n"
          ],
          "name": "stdout"
        }
      ]
    },
    {
      "cell_type": "code",
      "metadata": {
        "id": "cA82YMHdyt_H",
        "outputId": "83ac6377-0ae3-4079-a419-47aa678710ca",
        "colab": {
          "base_uri": "https://localhost:8080/",
          "height": 212
        }
      },
      "source": [
        "regPerformanceMetrics(lasso,y_train,y_train_pred,y_test,y_test_pred)"
      ],
      "execution_count": 179,
      "outputs": [
        {
          "output_type": "stream",
          "text": [
            "Root Mean Squared Error of Training Data:  7.677239691044347\n",
            "Root Mean Squared Error of Test Data:  7.501630474063678\n",
            "--------------------------------------------------------------\n",
            "Mean Squared Error of Training Data:  58.9400092737467\n",
            "Mean Squared Error of Test Data:  56.274459769400835\n",
            "--------------------------------------------------------------\n",
            "Mean Absolute Error of Training Data:  5.908843864402368\n",
            "Mean Absolute Error of Test Data:  5.851180045774748\n",
            "--------------------------------------------------------------\n",
            "R-squared of Training Data:  77.17634380445358\n",
            "R-squared of Test Data:  77.63850121888818\n"
          ],
          "name": "stdout"
        }
      ]
    },
    {
      "cell_type": "markdown",
      "metadata": {
        "id": "gu7_PfIw-Krm"
      },
      "source": [
        "We observed that even the Regularisation Techniques did not increase the performance to generalise the unseen data. Potential reason: They are also the family of linear models. "
      ]
    },
    {
      "cell_type": "markdown",
      "metadata": {
        "id": "JetbYa2L-aao"
      },
      "source": [
        "Changing the flexibility of the underlying curve to see the difference"
      ]
    },
    {
      "cell_type": "markdown",
      "metadata": {
        "id": "qqYnTVKj-gmf"
      },
      "source": [
        "Taking the polynomial features of all the variables"
      ]
    },
    {
      "cell_type": "code",
      "metadata": {
        "id": "Kp35im5jG6BU"
      },
      "source": [
        "predictors=data.drop(['outcomeVar'],axis=1)\n",
        "degree=2\n",
        "polyreg=make_pipeline(PolynomialFeatures(degree),LinearRegression())"
      ],
      "execution_count": 180,
      "outputs": []
    },
    {
      "cell_type": "markdown",
      "metadata": {
        "id": "JhIbiIu9-q7u"
      },
      "source": [
        "Training the model"
      ]
    },
    {
      "cell_type": "code",
      "metadata": {
        "id": "NcuL4nF9HxNj"
      },
      "source": [
        "trainedModel = model_trainer(polyreg,X_train,y_train)"
      ],
      "execution_count": 181,
      "outputs": []
    },
    {
      "cell_type": "markdown",
      "metadata": {
        "id": "l0uHFdbI-tRA"
      },
      "source": [
        "Making thge predictions"
      ]
    },
    {
      "cell_type": "code",
      "metadata": {
        "id": "y2CD9vYeKY5f"
      },
      "source": [
        "y_train_pred,y_test_pred = model_predictions(trainedModel,X_train,X_test)"
      ],
      "execution_count": 182,
      "outputs": []
    },
    {
      "cell_type": "markdown",
      "metadata": {
        "id": "TN9jHFbL-w-M"
      },
      "source": [
        "Cross Validating and Evaluating Performance"
      ]
    },
    {
      "cell_type": "code",
      "metadata": {
        "id": "7vtOcihgITGV",
        "outputId": "c51bbad7-787e-4182-f893-cdd3996b0b51",
        "colab": {
          "base_uri": "https://localhost:8080/",
          "height": 35
        }
      },
      "source": [
        "cross_validation(polyreg,3,predictors,target)"
      ],
      "execution_count": 183,
      "outputs": [
        {
          "output_type": "stream",
          "text": [
            "Coefficient of Determination of Mean Cross Validation: 88.14%\n"
          ],
          "name": "stdout"
        }
      ]
    },
    {
      "cell_type": "code",
      "metadata": {
        "id": "mxwtRHBpm2NN",
        "outputId": "8da33bdb-6f65-4421-db7e-0d69a5fcec21",
        "colab": {
          "base_uri": "https://localhost:8080/",
          "height": 212
        }
      },
      "source": [
        "regPerformanceMetrics(polyreg,y_train,y_train_pred,y_test,y_test_pred)"
      ],
      "execution_count": 184,
      "outputs": [
        {
          "output_type": "stream",
          "text": [
            "Root Mean Squared Error of Training Data:  5.447807624691427\n",
            "Root Mean Squared Error of Test Data:  5.566251070138338\n",
            "--------------------------------------------------------------\n",
            "Mean Squared Error of Training Data:  29.67860791564604\n",
            "Mean Squared Error of Test Data:  30.983150975816198\n",
            "--------------------------------------------------------------\n",
            "Mean Absolute Error of Training Data:  4.328995530006633\n",
            "Mean Absolute Error of Test Data:  4.354934067879665\n",
            "--------------------------------------------------------------\n",
            "R-squared of Training Data:  88.5073933347539\n",
            "R-squared of Test Data:  87.68838127243218\n"
          ],
          "name": "stdout"
        }
      ]
    },
    {
      "cell_type": "markdown",
      "metadata": {
        "id": "g676GIuf-5YX"
      },
      "source": [
        "From seeing the performance metrics we can see that the performance significantly increased when we changed the flexibility of the curve. This might have lowered the bias we were having in the previous models."
      ]
    },
    {
      "cell_type": "markdown",
      "metadata": {
        "id": "d4zvXoCCKJIn"
      },
      "source": [
        "### Next Step: Apply Ensembling Techniques\n",
        "\n"
      ]
    },
    {
      "cell_type": "markdown",
      "metadata": {
        "id": "03mo2_USuAzC"
      },
      "source": [
        "Building a Gradient Boost Model"
      ]
    },
    {
      "cell_type": "code",
      "metadata": {
        "id": "wusBDA_UKU-G"
      },
      "source": [
        "grad_boost = GradientBoostingRegressor()"
      ],
      "execution_count": 185,
      "outputs": []
    },
    {
      "cell_type": "markdown",
      "metadata": {
        "id": "vgHhKm3uuJsQ"
      },
      "source": [
        "Training the model"
      ]
    },
    {
      "cell_type": "code",
      "metadata": {
        "id": "WNw25heyhJON"
      },
      "source": [
        "trainedModel = model_trainer(grad_boost,X_train,y_train)"
      ],
      "execution_count": 186,
      "outputs": []
    },
    {
      "cell_type": "markdown",
      "metadata": {
        "id": "dvixDZKOuMJJ"
      },
      "source": [
        "Cross validating and making the predictions"
      ]
    },
    {
      "cell_type": "code",
      "metadata": {
        "id": "HVn0jY1hpUIv"
      },
      "source": [
        "y_train_pred,y_test_pred = model_predictions(trainedModel,X_train,X_test)"
      ],
      "execution_count": 187,
      "outputs": []
    },
    {
      "cell_type": "code",
      "metadata": {
        "id": "sAdKeRhkpg1s",
        "outputId": "ce920247-84df-421e-847d-22c6075865b4",
        "colab": {
          "base_uri": "https://localhost:8080/",
          "height": 35
        }
      },
      "source": [
        "cross_validation(grad_boost,3,predictors,target)"
      ],
      "execution_count": 188,
      "outputs": [
        {
          "output_type": "stream",
          "text": [
            "Coefficient of Determination of Mean Cross Validation: 99.60%\n"
          ],
          "name": "stdout"
        }
      ]
    },
    {
      "cell_type": "markdown",
      "metadata": {
        "id": "2Y9LyBnpuV9c"
      },
      "source": [
        "Evaluating Performance of the model"
      ]
    },
    {
      "cell_type": "code",
      "metadata": {
        "id": "ijw_WpnRpjmu",
        "outputId": "c419c21d-4c60-4b35-ba8d-a9a627f1590c",
        "colab": {
          "base_uri": "https://localhost:8080/",
          "height": 212
        }
      },
      "source": [
        "regPerformanceMetrics(grad_boost,y_train,y_train_pred,y_test,y_test_pred)"
      ],
      "execution_count": 189,
      "outputs": [
        {
          "output_type": "stream",
          "text": [
            "Root Mean Squared Error of Training Data:  0.7985875305698049\n",
            "Root Mean Squared Error of Test Data:  1.006812042081691\n",
            "--------------------------------------------------------------\n",
            "Mean Squared Error of Training Data:  0.6377420439815792\n",
            "Mean Squared Error of Test Data:  1.013670488080705\n",
            "--------------------------------------------------------------\n",
            "Mean Absolute Error of Training Data:  0.5871593391429993\n",
            "Mean Absolute Error of Test Data:  0.6887991026239833\n",
            "--------------------------------------------------------------\n",
            "R-squared of Training Data:  99.75304372475279\n",
            "R-squared of Test Data:  99.5972028611816\n"
          ],
          "name": "stdout"
        }
      ]
    },
    {
      "cell_type": "markdown",
      "metadata": {
        "id": "ci60So7gwWiU"
      },
      "source": [
        "Since we got reasonable performance so there would be no need to tune the hyperparamters of this model."
      ]
    },
    {
      "cell_type": "markdown",
      "metadata": {
        "id": "P-beahmGucpy"
      },
      "source": [
        "### Future Step:  Building Stack Regressor"
      ]
    }
  ]
}